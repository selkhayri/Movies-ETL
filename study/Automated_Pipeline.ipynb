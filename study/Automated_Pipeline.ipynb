{
 "cells": [
  {
   "cell_type": "code",
   "execution_count": 18,
   "metadata": {},
   "outputs": [],
   "source": [
    "# Import the dependencies\n",
    "\n",
    "import json\n",
    "import pandas as pd\n",
    "import numpy as np"
   ]
  },
  {
   "cell_type": "code",
   "execution_count": 19,
   "metadata": {},
   "outputs": [],
   "source": [
    "# Get data directory \n",
    "\n",
    "from local_config import data_dir"
   ]
  },
  {
   "cell_type": "code",
   "execution_count": 20,
   "metadata": {
    "scrolled": true
   },
   "outputs": [],
   "source": [
    "# Extract the Movielens and ratings data\n",
    "\n",
    "movies_metadata = pd.read_csv(f'{data_dir}movies_metadata.csv',low_memory=False)\n",
    "ratings = pd.read_csv(f'{data_dir}ratings.csv')"
   ]
  },
  {
   "cell_type": "code",
   "execution_count": 21,
   "metadata": {},
   "outputs": [],
   "source": [
    "# Extract the Wikipedia data\n",
    "\n",
    "with open(f'{data_dir}/wikipedia.movies.json', mode='r') as file:\n",
    "    wiki_movies_raw = json.load(file)"
   ]
  },
  {
   "cell_type": "code",
   "execution_count": 22,
   "metadata": {},
   "outputs": [],
   "source": [
    "# Convert the wiki_movies json data to a dataframe\n",
    "\n",
    "wiki_movies_df = pd.DataFrame(wiki_movies_raw)"
   ]
  },
  {
   "cell_type": "code",
   "execution_count": 23,
   "metadata": {},
   "outputs": [],
   "source": [
    "# Get list of movie json objects which satisfy the following conditions:\n",
    "# - one of the keys, Director or 'Directed by,' is present\n",
    "# - the imdb_link key is present\n",
    "# - the 'No. of episodes' key is not present\n",
    "\n",
    "wiki_movies = [movie for movie in wiki_movies_raw\n",
    "                if ('Director' in movie or 'Directed by' in movie)\n",
    "                and 'imdb_link' in movie\n",
    "                and 'No. of episodes' not in movie]"
   ]
  },
  {
   "cell_type": "code",
   "execution_count": 39,
   "metadata": {},
   "outputs": [
    {
     "data": {
      "text/plain": [
       "7076"
      ]
     },
     "execution_count": 39,
     "metadata": {},
     "output_type": "execute_result"
    }
   ],
   "source": [
    "len(wiki_movies)"
   ]
  },
  {
   "cell_type": "code",
   "execution_count": 24,
   "metadata": {},
   "outputs": [],
   "source": [
    "# Load the wiki_movies json objects list into a dataframe\n",
    "\n",
    "wiki_df = pd.DataFrame(wiki_movies)"
   ]
  },
  {
   "cell_type": "code",
   "execution_count": 25,
   "metadata": {},
   "outputs": [],
   "source": [
    "# This function does the following:\n",
    "# Phase 1 - moves alternate title keys to alt_titles dict object. It does so as follows:\n",
    "# - scans the movie dict parameter for alternate title keys\n",
    "# - adds the alternate title keys into a new dict object, alt_titles\n",
    "# - removes the alternate titles items from the movie dict\n",
    "# \n",
    "\n",
    "# Phase II - renames the keys in the movie dict to match those in the kaggle data\n",
    "\n",
    "# Return:\n",
    "# The cleaned movie dict\n",
    "\n",
    "def clean_movie(movie):\n",
    "    \n",
    "    # Phase I\n",
    "    movie = dict(movie)  # create a non-destructive copy\n",
    "    alt_titles = {}\n",
    "    \n",
    "    # scan the movie dict parameter for alternate title keys\n",
    "    for key in ['Also known as','Arabic','Cantonese','Chinese','French',\n",
    "                'Hangul','Hebrew','Hepburn','Japanese','Literally',\n",
    "                'Mandarin','McCune-Reischauer','Original title','Polish',\n",
    "                'Revised Romanization','Romanized','Russian',\n",
    "                'Simplified','Traditional','Yiddish']:\n",
    "          \n",
    "        if key in movie:\n",
    "            # add the alternate title keys into a new dict object, alt_titles\n",
    "            alt_titles[key] = movie[key]\n",
    "            \n",
    "            # remove the key,value item from the movie dict\n",
    "            movie.pop(key)\n",
    "    \n",
    "    # if any alternate titles dict has any items, add the alt_titles dict to the movie dict using key, 'alt_titles'\n",
    "    if len(alt_titles) > 0:\n",
    "        movie['alt_titles'] = alt_titles\n",
    "    \n",
    "    # Phase II - rename the keys in the movie dict to match those in the kaggle data\n",
    "    \n",
    "    # This inner function changes a column name from old_name and new_name\n",
    "    #\n",
    "    # Parameters:\n",
    "    # old_name - old key name\n",
    "    # new_name - new key name\n",
    "    \n",
    "    def change_column_name(old_name, new_name):\n",
    "        # If the key old_name exists in the movie dict\n",
    "        if old_name in movie:\n",
    "            \n",
    "            # place the value of movie[old_name] into movie[new_name] and delete the old_name item\n",
    "            movie[new_name] = movie.pop(old_name)\n",
    "    \n",
    "    # Perform the following key name changes \n",
    "    change_column_name('Adaptation by', 'Writer(s)')\n",
    "    change_column_name('Country of origin', 'Country')\n",
    "    change_column_name('Directed by', 'Director')\n",
    "    change_column_name('Distributed by', 'Distributor')\n",
    "    change_column_name('Edited by', 'Editor(s)')\n",
    "    change_column_name('Length', 'Running time')\n",
    "    change_column_name('Original release', 'Release date')\n",
    "    change_column_name('Music by', 'Composer(s)')\n",
    "    change_column_name('Produced by', 'Producer(s)')\n",
    "    change_column_name('Producer', 'Producer(s)')\n",
    "    change_column_name('Productioncompanies ', 'Production company(s)')\n",
    "    change_column_name('Productioncompany ', 'Production company(s)')\n",
    "    change_column_name('Released', 'Release Date')\n",
    "    change_column_name('Release Date', 'Release date')\n",
    "    change_column_name('Screen story by', 'Writer(s)')\n",
    "    change_column_name('Screenplay by', 'Writer(s)')\n",
    "    change_column_name('Story by', 'Writer(s)')\n",
    "    change_column_name('Theme music composer', 'Composer(s)')\n",
    "    change_column_name('Written by', 'Writer(s)')\n",
    "    \n",
    "    return movie"
   ]
  },
  {
   "cell_type": "code",
   "execution_count": 26,
   "metadata": {},
   "outputs": [],
   "source": [
    "# Clean the movies in in the wiki_movies list\n",
    "\n",
    "clean_movies = [clean_movie(movie) for movie in wiki_movies]"
   ]
  },
  {
   "cell_type": "code",
   "execution_count": 40,
   "metadata": {},
   "outputs": [
    {
     "data": {
      "text/plain": [
       "7076"
      ]
     },
     "execution_count": 40,
     "metadata": {},
     "output_type": "execute_result"
    }
   ],
   "source": [
    "len(clean_movies)"
   ]
  },
  {
   "cell_type": "code",
   "execution_count": 41,
   "metadata": {},
   "outputs": [],
   "source": [
    "# Redefine wiki_movies_df using the clean_movies dict list\n",
    "wiki_movies_df = pd.DataFrame(clean_movies)"
   ]
  },
  {
   "cell_type": "code",
   "execution_count": 42,
   "metadata": {},
   "outputs": [],
   "source": [
    "# Extract the imdb_id from using regular expression\n",
    "wiki_movies_df['imdb_id'] = wiki_movies_df['imdb_link'].str.extract(r'(tt\\d{7})')"
   ]
  },
  {
   "cell_type": "markdown",
   "metadata": {},
   "source": [
    "## Remove next cell"
   ]
  },
  {
   "cell_type": "code",
   "execution_count": 43,
   "metadata": {
    "scrolled": true
   },
   "outputs": [
    {
     "data": {
      "text/plain": [
       "['tt0099180',\n",
       " 'tt0099816',\n",
       " 'tt0101414',\n",
       " 'tt0102432',\n",
       " 'tt0103002',\n",
       " 'tt0103923',\n",
       " 'tt0105226',\n",
       " 'tt0105616',\n",
       " 'tt0107978',\n",
       " 'tt0107983',\n",
       " 'tt0109266',\n",
       " 'tt0113646',\n",
       " 'tt0113855',\n",
       " 'tt0115819',\n",
       " 'tt0118577',\n",
       " 'tt0119256',\n",
       " 'tt0120241',\n",
       " 'tt0120338',\n",
       " 'tt0120915',\n",
       " 'tt0165831',\n",
       " 'tt0198781',\n",
       " 'tt0226168',\n",
       " 'tt0259446',\n",
       " 'tt0265307',\n",
       " 'tt0266543',\n",
       " 'tt0273982',\n",
       " 'tt0290212',\n",
       " 'tt0296192',\n",
       " 'tt0321780',\n",
       " 'tt0498381',\n",
       " 'tt0795351',\n",
       " 'tt0844286',\n",
       " 'tt1107319',\n",
       " 'tt1440379',\n",
       " 'tt1781840',\n",
       " 'tt1885300',\n",
       " 'tt1930294',\n",
       " 'tt1935896',\n",
       " 'tt2023765',\n",
       " 'tt2083379',\n",
       " 'tt2103264',\n",
       " 'tt2140577']"
      ]
     },
     "execution_count": 43,
     "metadata": {},
     "output_type": "execute_result"
    }
   ],
   "source": [
    "imdb_df = pd.DataFrame(wiki_movies_df['imdb_id']).dropna()\n",
    "# imdb_df[imdb_df.duplicated()][\"imdb_id\"]\n",
    "\n",
    "duplicates = wiki_movies_df.loc[wiki_movies_df.imdb_id.isin(imdb_df[imdb_df.duplicated()][\"imdb_id\"])].sort_values(\"imdb_id\")\n",
    "\n",
    "dups = []\n",
    "for item in duplicates[\"imdb_id\"]:\n",
    "    if not (item in dups):\n",
    "        dups.append(item)\n",
    "        \n",
    "dups"
   ]
  },
  {
   "cell_type": "code",
   "execution_count": 50,
   "metadata": {},
   "outputs": [],
   "source": [
    "wiki_movies_df.drop_duplicates(subset='imdb_id', inplace=True)"
   ]
  },
  {
   "cell_type": "code",
   "execution_count": 52,
   "metadata": {},
   "outputs": [
    {
     "data": {
      "text/plain": [
       "(7033, 41)"
      ]
     },
     "execution_count": 52,
     "metadata": {},
     "output_type": "execute_result"
    }
   ],
   "source": [
    "wiki_movies_df.shape"
   ]
  },
  {
   "cell_type": "code",
   "execution_count": 61,
   "metadata": {},
   "outputs": [],
   "source": [
    "# Keep only those columns which have less than 90% null values\n",
    "\n",
    "wiki_columns_to_keep = [column for column in wiki_movies_df.columns if wiki_movies_df[column].isnull().sum() < len(wiki_movies_df) * 0.9]\n",
    "wiki_movies_df = wiki_movies_df[wiki_columns_to_keep]"
   ]
  },
  {
   "cell_type": "code",
   "execution_count": 59,
   "metadata": {},
   "outputs": [],
   "source": [
    "\n"
   ]
  }
 ],
 "metadata": {
  "kernelspec": {
   "display_name": "PythonData",
   "language": "python",
   "name": "pythondata"
  },
  "language_info": {
   "codemirror_mode": {
    "name": "ipython",
    "version": 3
   },
   "file_extension": ".py",
   "mimetype": "text/x-python",
   "name": "python",
   "nbconvert_exporter": "python",
   "pygments_lexer": "ipython3",
   "version": "3.7.7"
  }
 },
 "nbformat": 4,
 "nbformat_minor": 4
}
